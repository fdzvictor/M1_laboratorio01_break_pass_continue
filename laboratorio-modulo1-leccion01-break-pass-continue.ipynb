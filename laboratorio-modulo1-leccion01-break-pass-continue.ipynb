{
 "cells": [
  {
   "cell_type": "markdown",
   "metadata": {},
   "source": [
    "\n",
    "<div style=\"text-align: center;\">\n",
    "  <img src=\"https://github.com/Hack-io-Data/Imagenes/blob/main/01-LogosHackio/logo_celeste@4x.png?raw=true\" alt=\"esquema\" />\n",
    "</div>\n"
   ]
  },
  {
   "cell_type": "markdown",
   "metadata": {},
   "source": [
    "# Laboratorio de Python: break(), pass(), continue()"
   ]
  },
  {
   "cell_type": "markdown",
   "metadata": {},
   "source": [
    "## Ejercicio 1: Validación de datos numéricos. \n",
    "\n",
    "Escribe un bucle que lea una lista de números y detenga la ejecución si encuentra un valor negativo. Muestra un mensaje indicando el número negativo encontrado.\n"
   ]
  },
  {
   "cell_type": "code",
   "execution_count": 1,
   "metadata": {},
   "outputs": [
    {
     "name": "stdout",
     "output_type": "stream",
     "text": [
      "1\n",
      "2\n",
      "3\n",
      "4\n",
      "-5 es negativo!\n"
     ]
    }
   ],
   "source": [
    "listanums = [1,2,3,4,-5,6,7,8,9]\n",
    "for n in listanums:\n",
    "    if n >=0:\n",
    "        print(n)\n",
    "    else:\n",
    "        print(f\"{n} es negativo!\")\n",
    "        break"
   ]
  },
  {
   "cell_type": "markdown",
   "metadata": {},
   "source": [
    "\n",
    "## Ejercicio 2: Filtrado de datos\n",
    "\n",
    "Escribe un bucle que imprima los números de una lista, pero que omita los números pares.\n"
   ]
  },
  {
   "cell_type": "code",
   "execution_count": 2,
   "metadata": {},
   "outputs": [
    {
     "name": "stdout",
     "output_type": "stream",
     "text": [
      "1\n",
      "3\n",
      "-5\n",
      "7\n",
      "9\n"
     ]
    }
   ],
   "source": [
    "listanums = [1,2,3,4,-5,6,7,8,9]\n",
    "for n in listanums:\n",
    "    if n % 2 != 0:\n",
    "        print(n) "
   ]
  },
  {
   "cell_type": "markdown",
   "metadata": {},
   "source": [
    "## Ejercicio 3: Búsqueda de un valor\n",
    "\n",
    "Escribe un programa que busque un valor específico en una lista y detenga la búsqueda cuando lo encuentre. Si se encuentra, muestra un mensaje.\n"
   ]
  },
  {
   "cell_type": "code",
   "execution_count": 15,
   "metadata": {},
   "outputs": [],
   "source": [
    "def buscavalor (lista,valor):\n",
    "    for i in range (0,len(lista)):\n",
    "            if lista[i] == valor:\n",
    "                print (f\"el valor es {lista[i]}\")\n",
    "                break\n"
   ]
  },
  {
   "cell_type": "code",
   "execution_count": 16,
   "metadata": {},
   "outputs": [
    {
     "name": "stdout",
     "output_type": "stream",
     "text": [
      "el valor es 9\n"
     ]
    }
   ],
   "source": [
    "buscavalor ([7,8,9,11,5,3,-7],9)"
   ]
  },
  {
   "cell_type": "markdown",
   "metadata": {},
   "source": [
    "## Ejercicio 4: Estructura de código incompleto\n",
    "\n",
    "Define una función que aún no tenga lógica implementada, pero que se pueda ejecutar sin errores utilizando `pass`."
   ]
  },
  {
   "cell_type": "code",
   "execution_count": 24,
   "metadata": {},
   "outputs": [],
   "source": [
    "def nipidea ():\n",
    "    pass\n",
    "     "
   ]
  },
  {
   "cell_type": "code",
   "execution_count": 25,
   "metadata": {},
   "outputs": [],
   "source": [
    "nipidea()"
   ]
  },
  {
   "cell_type": "markdown",
   "metadata": {},
   "source": [
    "## Ejercicio 5: Validación condicional\n",
    "\n",
    "Escribe un bucle que verifique una lista de nombres. Si encuentra un nombre vacío (cadena vacía), salta esa iteración y continúa con los demás nombres.\n"
   ]
  },
  {
   "cell_type": "code",
   "execution_count": 74,
   "metadata": {},
   "outputs": [
    {
     "name": "stdout",
     "output_type": "stream",
     "text": [
      "jose\n",
      "juan\n",
      "amaya\n",
      "pedro\n"
     ]
    }
   ],
   "source": [
    "nombres = [\"Jose\",\"\",\"Juan\",\"Amaya\",\"Pedro\"]\n",
    "\n",
    "for nombre in nombres:\n",
    "    if nombre == \"\":\n",
    "        pass  \n",
    "    else:\n",
    "        print(nombres)"
   ]
  },
  {
   "cell_type": "markdown",
   "metadata": {},
   "source": [
    "## Ejercicio 6: Búsqueda de claves en un diccionario\n",
    "\n",
    "Escribe un programa que recorra un diccionario y detenga la búsqueda si encuentra una clave específica pasada por el usuario.\n"
   ]
  },
  {
   "cell_type": "code",
   "execution_count": 36,
   "metadata": {},
   "outputs": [],
   "source": [
    "def busqueda_diccionario (dicc,valor):\n",
    "    for k in dicc:\n",
    "        print (k)\n",
    "        if k == valor:\n",
    "            break"
   ]
  },
  {
   "cell_type": "code",
   "execution_count": 61,
   "metadata": {},
   "outputs": [
    {
     "name": "stdout",
     "output_type": "stream",
     "text": [
      "madera\n"
     ]
    }
   ],
   "source": [
    "d = {\"madera\": 6, \"hierro\": 4, \"oro\": 2}\n",
    "busqueda_diccionario(d, \"madera\")"
   ]
  },
  {
   "cell_type": "markdown",
   "metadata": {},
   "source": [
    "## Ejercicio 7: Bucle con múltiples excepciones\n",
    "\n",
    "Escribe un bucle que procese una lista de operaciones matemáticas, omitiendo las operaciones que intenten dividir por cero.\n"
   ]
  },
  {
   "cell_type": "code",
   "execution_count": 106,
   "metadata": {},
   "outputs": [
    {
     "name": "stdout",
     "output_type": "stream",
     "text": [
      "0.3333333333333333\n",
      "0.012987012987012988\n",
      "0.030303030303030304\n",
      "0.021739130434782608\n",
      "0.6666666666666666\n",
      "0.025974025974025976\n",
      "0.06060606060606061\n",
      "0.043478260869565216\n",
      "2.0\n",
      "0.07792207792207792\n",
      "0.18181818181818182\n",
      "0.13043478260869565\n",
      "32.666666666666664\n",
      "1.2727272727272727\n",
      "2.9696969696969697\n",
      "2.130434782608696\n",
      "0.6666666666666666\n",
      "0.025974025974025976\n",
      "0.06060606060606061\n",
      "0.043478260869565216\n"
     ]
    }
   ],
   "source": [
    "numero1 = [1,2,6,98,2]\n",
    "numero2 = [3,0,77,33,46]\n",
    "\n",
    "for n1 in numero1:\n",
    "    for n2 in numero2:\n",
    "\n",
    "        try:\n",
    "            print(n1/n2)\n",
    "        except ZeroDivisionError:\n",
    "            pass    \n",
    "        \n",
    "\n",
    "  #Revisar esto y meterle mas operaciones?  "
   ]
  },
  {
   "cell_type": "markdown",
   "metadata": {},
   "source": [
    "## Ejercicio 8: Búsqueda en una lista anidada\n",
    "\n",
    "Escribe un programa que recorra una lista de listas y detenga la búsqueda cuando encuentre un valor mayor a 50.\n"
   ]
  },
  {
   "cell_type": "code",
   "execution_count": 57,
   "metadata": {},
   "outputs": [
    {
     "name": "stdout",
     "output_type": "stream",
     "text": [
      "1\n",
      "2\n",
      "3\n",
      "4\n",
      "5\n",
      "10\n",
      "20\n",
      "40\n",
      "50\n"
     ]
    }
   ],
   "source": [
    "listas2 = [[1,2,3,4,5],[10,20,40],[50,70,89]]\n",
    "listagorda = []\n",
    "for h in listas2:\n",
    "    for i in h:\n",
    "     listagorda.append(i)\n",
    "\n",
    "for x in listagorda:\n",
    "   print (x)\n",
    "   if x == 50:\n",
    "    break\n",
    "\n"
   ]
  },
  {
   "cell_type": "markdown",
   "metadata": {},
   "source": [
    "## Ejercicio 9: Evaluación de series temporales\n",
    "\n",
    "Escribe un programa que recorra una lista de datos de series temporales y se detenga si encuentra un valor atípico (mayor a 100).\n"
   ]
  },
  {
   "cell_type": "code",
   "execution_count": 58,
   "metadata": {},
   "outputs": [
    {
     "name": "stdout",
     "output_type": "stream",
     "text": [
      "1\n",
      "2\n",
      "5\n",
      "7\n",
      "9\n",
      "100\n",
      "103\n",
      "Valor atípico\n"
     ]
    }
   ],
   "source": [
    "serie_temporal = (1,2,5,7,9,100,103,5,8,3,2)\n",
    "for h in serie_temporal:\n",
    "    print(h)\n",
    "    if h >100:\n",
    "        print(\"Valor atípico\")\n",
    "        break\n"
   ]
  },
  {
   "cell_type": "markdown",
   "metadata": {},
   "source": [
    "## Ejercicio 10: Iteración con valores faltantes\n",
    "\n",
    "Crea un bucle que recorra una lista de datos de ventas y salte los valores faltantes representados por `None`."
   ]
  },
  {
   "cell_type": "code",
   "execution_count": 75,
   "metadata": {},
   "outputs": [
    {
     "name": "stdout",
     "output_type": "stream",
     "text": [
      "1\n",
      "5\n",
      "7\n",
      "2\n",
      "7\n",
      "3\n",
      "5\n"
     ]
    }
   ],
   "source": [
    "numeros = [1,5,7,2,None,7,3,5]\n",
    "\n",
    "for numero in numeros:\n",
    "    if numero == None:\n",
    "        pass  \n",
    "    else:\n",
    "        print(numero)\n",
    "    \n",
    "        \n"
   ]
  },
  {
   "cell_type": "markdown",
   "metadata": {},
   "source": [
    "## Ejercicio 11: Control de flujo en bucles anidados\n",
    "\n",
    "Escribe un bucle que recorra la matriz dada y se detenga si se encuentra un número negativo, mostrando su posición.\n",
    "\n"
   ]
  },
  {
   "cell_type": "code",
   "execution_count": 90,
   "metadata": {},
   "outputs": [
    {
     "name": "stdout",
     "output_type": "stream",
     "text": [
      "1\n",
      "2\n",
      "3\n",
      "6\n",
      "9\n",
      "13\n",
      "5\n",
      "7\n",
      "22\n",
      "56\n",
      "-33\n",
      "el numero negativo es -33\n",
      "la posición de la sublista es 3 y el numero está en 3\n"
     ]
    }
   ],
   "source": [
    "matriz = [[1,2,3,6],\n",
    "          [9,13,5,7],\n",
    "          [22,56,-33,1]]\n",
    "\n",
    "for i in matriz:\n",
    "    for j in i:\n",
    "     print (j)\n",
    "     if j < 0: \n",
    "        indice = i.index (j)\n",
    "        indice2 = matriz.index(i)\n",
    "        print(f\"el numero negativo es {j}\")\n",
    "        print (f\"la posición de la sublista es {indice+1} y el numero está en {indice2+1}\")\n",
    "        break\n",
    "\n",
    "\n",
    "\n",
    "        "
   ]
  },
  {
   "cell_type": "markdown",
   "metadata": {},
   "source": [
    "## Ejercicio 12: Placeholder para funciones incompletas\n",
    "\n",
    "Escribe una función que tenga un bloque de control que aún no esté implementado, utilizando `pass` para que no genere errores."
   ]
  },
  {
   "cell_type": "code",
   "execution_count": 93,
   "metadata": {},
   "outputs": [],
   "source": [
    "def nipidea ():\n",
    "    if nipidea == ():\n",
    "     pass"
   ]
  },
  {
   "cell_type": "code",
   "execution_count": 94,
   "metadata": {},
   "outputs": [],
   "source": [
    "nipidea()"
   ]
  }
 ],
 "metadata": {
  "kernelspec": {
   "display_name": "contenido",
   "language": "python",
   "name": "python3"
  },
  "language_info": {
   "codemirror_mode": {
    "name": "ipython",
    "version": 3
   },
   "file_extension": ".py",
   "mimetype": "text/x-python",
   "name": "python",
   "nbconvert_exporter": "python",
   "pygments_lexer": "ipython3",
   "version": "3.11.7"
  }
 },
 "nbformat": 4,
 "nbformat_minor": 2
}
